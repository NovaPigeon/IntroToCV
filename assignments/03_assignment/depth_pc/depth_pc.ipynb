{
 "cells": [
  {
   "cell_type": "code",
   "execution_count": 66,
   "metadata": {},
   "outputs": [],
   "source": [
    "import numpy as np\n",
    "import cv2"
   ]
  },
  {
   "cell_type": "code",
   "execution_count": 67,
   "metadata": {},
   "outputs": [
    {
     "name": "stdout",
     "output_type": "stream",
     "text": [
      "[[415.69219382   0.         320.        ]\n",
      " [  0.         415.69219382 240.        ]\n",
      " [  0.           0.           1.        ]]\n"
     ]
    }
   ],
   "source": [
    "# read depth image\n",
    "depth_scale = 0.00012498664727900177\n",
    "depth_img = cv2.imread('depth.png')\n",
    "dpt = depth_img[:, :, 2] + depth_img[:, :, 1] * 256\n",
    "dpt = dpt * depth_scale\n",
    "\n",
    "# read seg image\n",
    "seg = cv2.imread('seg.png')[...,0]  # 255: fore ground, 0: background\n",
    "\n",
    "# read intrinsics and extrinsics\n",
    "K = np.load('intrinsic.npy')\n",
    "print(K)"
   ]
  },
  {
   "cell_type": "code",
   "execution_count": 68,
   "metadata": {},
   "outputs": [
    {
     "name": "stdout",
     "output_type": "stream",
     "text": [
      "[[-0.09423124 -0.40291978  1.3507307 ]\n",
      " [-0.09079667 -0.40209955  1.34798099]\n",
      " [-0.08738345 -0.4013166   1.34535627]\n",
      " ...\n",
      " [ 0.32885786  0.24503135  1.34023182]\n",
      " [ 0.33220583  0.24512275  1.34073177]\n",
      " [ 0.33586891  0.24544267  1.34248158]]\n"
     ]
    }
   ],
   "source": [
    "# task1: convert depth image to point cloud\n",
    "def depth2pc(depth, seg, K):\n",
    "    # ------------TODO---------------\n",
    "    # compute point cloud from depth image\n",
    "    # for-loop is not allowed!!\n",
    "    # ------------TODO --------------\n",
    "    # P=(x,y,z)->P'=(alpha*x/z+c_x,beta*y/z+c_y)\n",
    "    alpha=K[0][0]\n",
    "    beta=K[1][1]\n",
    "    c_x=K[0][2]\n",
    "    c_y=K[1][2]\n",
    "    \n",
    "    y_camera,x_camera=np.where(seg==255)\n",
    "    depth=depth[seg==255]\n",
    "   \n",
    "    x_world=((x_camera-c_x)/alpha*depth).reshape(-1)\n",
    "    y_world=((y_camera-c_y)/beta*depth).reshape(-1)\n",
    "    z_world=depth.reshape(-1)\n",
    "\n",
    "    pc=np.zeros((x_world.shape[0],3))\n",
    "    pc[:,0]=x_world\n",
    "    pc[:,1]=y_world\n",
    "    pc[:,2]=z_world\n",
    "    \n",
    "    return pc\n",
    "\n",
    "partial_pc = depth2pc(dpt, seg, K)\n",
    "print(partial_pc)\n",
    "\n",
    "# For debug and submission\n",
    "np.savetxt('../results/pc_from_depth.txt', partial_pc)"
   ]
  },
  {
   "cell_type": "code",
   "execution_count": 69,
   "metadata": {},
   "outputs": [
    {
     "name": "stdout",
     "output_type": "stream",
     "text": [
      "(2048, 3)\n",
      "one way chamfer distance:  [0.010298205005798703]\n"
     ]
    }
   ],
   "source": [
    "# task2: compute one-way chamfer distance to the complete shape\n",
    "full_pc = np.loadtxt('aligned_full_pc.txt')\n",
    "\n",
    "def random_sample(pc, num):\n",
    "    permu = np.random.permutation(pc.shape[0])\n",
    "    return pc[permu][:num]\n",
    "\n",
    "partial_pc_sampled = random_sample(partial_pc, 2048)\n",
    "full_pc_sampled = random_sample(full_pc, 2048)\n",
    "\n",
    "# -----------TODO---------------\n",
    "# implement one way chamfer distance\n",
    "# -----------TODO---------------\n",
    "one_way_CD = 0\n",
    "print(partial_pc_sampled.shape)\n",
    "t1=np.tile(partial_pc_sampled,(2048,1))\n",
    "t2=np.repeat(full_pc_sampled,2048,axis=0)\n",
    "t3=np.sqrt(np.sum((t1-t2)**2,axis=1)).reshape(2048,2048)\n",
    "one_way_CD=[np.mean(np.min(t3,axis=0))]\n",
    "print('one way chamfer distance: ', one_way_CD)\n",
    "\n",
    "# For submission\n",
    "np.savetxt('../results/one_way_CD.txt', one_way_CD)"
   ]
  }
 ],
 "metadata": {
  "interpreter": {
   "hash": "b4ffbbff3239a731f5036eedf271342b6e0256ecf54d21a0ffa848ef6f1f16b8"
  },
  "kernelspec": {
   "display_name": "Python 3.8.8 ('base')",
   "language": "python",
   "name": "python3"
  },
  "language_info": {
   "codemirror_mode": {
    "name": "ipython",
    "version": 3
   },
   "file_extension": ".py",
   "mimetype": "text/x-python",
   "name": "python",
   "nbconvert_exporter": "python",
   "pygments_lexer": "ipython3",
   "version": "3.7.11"
  },
  "orig_nbformat": 4
 },
 "nbformat": 4,
 "nbformat_minor": 2
}

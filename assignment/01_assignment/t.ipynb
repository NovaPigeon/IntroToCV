{
 "cells": [
  {
   "cell_type": "code",
   "execution_count": 142,
   "metadata": {},
   "outputs": [
    {
     "name": "stdout",
     "output_type": "stream",
     "text": [
      "[[0. 0. 0. 0. 0. 0. 0. 0.]\n",
      " [0. 0. 0. 0. 0. 0. 0. 0.]\n",
      " [0. 1. 1. 1. 1. 1. 1. 0.]\n",
      " [0. 2. 2. 2. 2. 2. 2. 0.]\n",
      " [0. 3. 3. 3. 3. 3. 3. 0.]\n",
      " [0. 4. 4. 4. 4. 4. 4. 0.]\n",
      " [0. 5. 5. 5. 5. 5. 5. 0.]\n",
      " [0. 0. 0. 0. 0. 0. 0. 0.]]\n",
      "[[1 2 3]\n",
      " [4 5 6]\n",
      " [7 8 9]]\n"
     ]
    },
    {
     "data": {
      "text/plain": [
       "array([[ 17.,  24.,  24.,  24.,  24.,  15.],\n",
       "       [ 45.,  63.,  63.,  63.,  63.,  39.],\n",
       "       [ 78., 108., 108., 108., 108.,  66.],\n",
       "       [111., 153., 153., 153., 153.,  93.],\n",
       "       [144., 198., 198., 198., 198., 120.],\n",
       "       [ 75.,  99.,  99.,  99.,  99.,  57.]])"
      ]
     },
     "execution_count": 142,
     "metadata": {},
     "output_type": "execute_result"
    }
   ],
   "source": [
    "import numpy as np\n",
    "from utils import read_img, write_img\n",
    "\n",
    "\n",
    "def padding(img, padding_size, type):\n",
    "    \"\"\"\n",
    "        The function you need to implement for Q1 a).\n",
    "        Inputs:\n",
    "            img: array(float)\n",
    "            padding_size: int\n",
    "            type: str, zeroPadding/replicatePadding\n",
    "        Outputs:\n",
    "            padding_img: array(float)\n",
    "    \"\"\"\n",
    "\n",
    "    x, y = img.shape\n",
    "    padding_img = np.zeros((x + 2 * padding_size, y + 2 * padding_size))\n",
    "    padding_img[padding_size:x + padding_size,\n",
    "                padding_size:y + padding_size] = img\n",
    "    if type == \"zeroPadding\":\n",
    "        return padding_img\n",
    "    elif type == \"replicatePadding\":\n",
    "        padding_img[0:padding_size, 0:padding_size] = img[0][0]\n",
    "        padding_img[x + padding_size:x + 2 * padding_size,\n",
    "                    0:padding_size] = img[x - 1][0]\n",
    "        padding_img[0:padding_size,\n",
    "                    y + padding_size:y + 2 * padding_size] = img[0][y - 1]\n",
    "        padding_img[x + padding_size:x + 2 * padding_size,\n",
    "                    y + padding_size:y + 2 * padding_size] = img[x - 1][y - 1]\n",
    "        padding_img[0:padding_size, padding_size:y + padding_size] = img[0,\n",
    "                                                                         0:y]\n",
    "        padding_img[x + padding_size:x + 2 * padding_size,\n",
    "                    padding_size:y + padding_size] = img[x - 1, 0:y]\n",
    "        padding_img[padding_size:x + padding_size,\n",
    "                    0:padding_size] = img[0:x, 0].reshape(x, 1)\n",
    "        padding_img[padding_size:x + padding_size, y + padding_size:y +\n",
    "                    2 * padding_size] = img[0:x, y - 1].reshape(x, 1)\n",
    "        return padding_img\n",
    "\n",
    "def convol_with_Toeplitz_matrix_1(img, kernel):\n",
    "    \"\"\"\n",
    "        The function you need to implement for Q1 b).\n",
    "        Inputs:\n",
    "            img: array(float) 6*6\n",
    "            kernel: array(float) 3*3\n",
    "        Outputs:\n",
    "            output: array(float)\n",
    "    \"\"\"\n",
    "    #zero padding\n",
    "    padding_img = padding(img, 1, \"zeroPadding\")\n",
    "\n",
    "    #build the Toeplitz matrix and compute convolution\n",
    "    T = np.zeros((36, 64))\n",
    "    idx = np.reshape(np.reshape(np.arange(6) * 8, (6,1)) + (np.arange(6)), (36,))\n",
    "    # idx = np.concatenate((idx, (idx + 8), (idx + 16), (idx + 24), (idx + 32), (idx + 40)), axis = None)\n",
    "    \n",
    "    sft = np.reshape(np.arange(3) * 8, (3,1)) + (np.arange(3))\n",
    "    idx = np.reshape(idx, (36, 1, 1)) + sft\n",
    "    T[np.broadcast_to(np.reshape(np.arange(36), (36, 1, 1)), (36, 3, 3)), idx] += kernel\n",
    "    # for i in range(3):\n",
    "    #     for j in range(3):\n",
    "    #         T[np.arange(36), idx + j + i*8] += kernel[i,j]\n",
    "    \n",
    "    return np.reshape(np.matmul(T, np.reshape(padding_img, (64,1))), (6,6))\n",
    "def convol_with_Toeplitz_matrix(img:np.ndarray, kernel:np.ndarray):\n",
    "    \"\"\"\n",
    "        The function you need to implement for Q1 b).\n",
    "        Inputs:\n",
    "            img: array(float) 6*6\n",
    "            kernel: array(float) 3*3\n",
    "        Outputs:\n",
    "            output: array(float)\n",
    "    \"\"\"\n",
    "    #zero padding\n",
    "    padding_img:np.ndarray = padding(img,1,\"zeroPadding\").reshape(64,1)\n",
    "\n",
    "    #build the Toeplitz matrix and compute convolution\n",
    "    kernel=kernel.reshape(9)\n",
    "    k1=list(kernel[0:3])\n",
    "    k2=list(kernel[3:6])\n",
    "    k3=list(kernel[6:9])\n",
    "    l1=k1+[0]*5+k2+[0]*5+k3+[0]*46 # 3+5+3+5+3+46=65=64+1(循环往右移一位)\n",
    "    l2=l1*6+[0]*2 # 补足 2 位，分块\n",
    "    l3=l2*5+l1*5+k1+[0]*5+k2+[0]*5+k3 # 处理最后一行\n",
    "    topl_mat=np.array(l3).reshape(36,64)\n",
    "    output=(topl_mat@padding_img).reshape(6,6)\n",
    "    return output\n",
    "np.set_printoptions(threshold=np.inf)\n",
    "img=np.array([[0]*6,\n",
    "              [1]*6,\n",
    "              [2]*6,\n",
    "              [3]*6,\n",
    "              [4]*6,\n",
    "              [5]*6\n",
    "              ])\n",
    "\n",
    "kernel=np.array([[1,2,3],[4,5,6],[7,8,9]])\n",
    "print(img)\n",
    "print(kernel)\n",
    "convol_with_Toeplitz_matrix_1(img,kernel)\n",
    "\n"
   ]
  },
  {
   "cell_type": "code",
   "execution_count": 134,
   "metadata": {},
   "outputs": [],
   "source": [
    "def convolve_e(img, kernel):\n",
    "    \"\"\"\n",
    "        The function you need to implement for Q1 c).\n",
    "        Inputs:\n",
    "            img: array(float)\n",
    "            kernel: array(float)\n",
    "        Outputs:\n",
    "            output: array(float)\n",
    "    \"\"\"\n",
    "    \n",
    "    #build the sliding-window convolution here\n",
    "    n,m = img.shape\n",
    "    k,l = kernel.shape\n",
    "    H = np.broadcast_to(np.reshape(np.arange(n-k+1), (n-k+1,1,1,1)), (n-k+1,m-l+1,1,1)) + np.broadcast_to(np.reshape(np.arange(k), (k, 1)), (k, l))\n",
    "    L = np.broadcast_to(np.reshape(np.arange(m-l+1), (1,m-l+1,1,1)), (n-k+1,m-l+1,1,1)) + np.broadcast_to(np.reshape(np.arange(l), (1, l)), (k, l))\n",
    "    T = img[H, L]\n",
    "    output = np.sum(np.sum(T * kernel, axis=3), axis=2)\n",
    "    return output\n"
   ]
  },
  {
   "cell_type": "code",
   "execution_count": 146,
   "metadata": {},
   "outputs": [
    {
     "data": {
      "text/plain": [
       "array([[ 17.,  24.,  24.,  24.,  24.,  15.],\n",
       "       [ 45.,  63.,  63.,  63.,  63.,  39.],\n",
       "       [ 78., 108., 108., 108., 108.,  66.],\n",
       "       [111., 153., 153., 153., 153.,  93.],\n",
       "       [144., 198., 198., 198., 198., 120.],\n",
       "       [ 75.,  99.,  99.,  99.,  99.,  57.]])"
      ]
     },
     "execution_count": 146,
     "metadata": {},
     "output_type": "execute_result"
    }
   ],
   "source": [
    "def convolve(img, kernel):\n",
    "    \"\"\"\n",
    "        The function you need to implement for Q1 c).\n",
    "        Inputs:\n",
    "            img: array(float)\n",
    "            kernel: array(float)\n",
    "        Outputs:\n",
    "            output: array(float)\n",
    "    \"\"\"\n",
    "    \n",
    "    #build the sliding-window convolution here\n",
    "    \n",
    "    image_height, image_width = img.shape\n",
    "    kernel_height, kernel_width = kernel.shape\n",
    "    output_height = image_height - kernel_height + 1\n",
    "    output_width = image_width - kernel_width + 1\n",
    "    \n",
    "    output = np.zeros((output_height, output_width))\n",
    "\n",
    "    kernel_i,kernel_j=np.meshgrid(np.arange(kernel_height),np.arange(kernel_width),indexing=\"ij\")\n",
    "    kernel_i=kernel_i.reshape(1,kernel_height*kernel_width)\n",
    "    kernel_j=kernel_j.reshape(1,kernel_height*kernel_width)\n",
    "    kernel_i-=1\n",
    "    kernel_j-=1\n",
    "    \n",
    "    img_i,img_j=np.meshgrid(np.arange(image_height)[kernel_height//2:image_height-kernel_height//2],\n",
    "                            np.arange(image_width)[kernel_width//2:image_width-kernel_width//2],indexing=\"ij\")\n",
    "    \n",
    "    img_i=img_i.reshape((output_width*output_height,1))\n",
    "    img_i=np.repeat(img_i,kernel_height*kernel_width).\\\n",
    "        reshape((output_width*output_height,kernel_height*kernel_width))\n",
    "    \n",
    "    img_j=img_j.reshape((output_width*output_height,1))\n",
    "    img_j=np.repeat(img_j,kernel_height*kernel_width).\\\n",
    "        reshape((output_width*output_height,kernel_height*kernel_width))\n",
    "    \n",
    "    img_i+=kernel_i\n",
    "    img_j+=kernel_j\n",
    "\n",
    "    \n",
    "    img_sliding_window=img[img_i,img_j]\n",
    "    kernel=kernel.reshape(1,kernel_height*kernel_width)\n",
    "    kernel=np.repeat(kernel,output_width*output_height,axis=0).\\\n",
    "        reshape((output_width*output_height,kernel_height*kernel_width))\n",
    "    \n",
    "    output=np.sum(img_sliding_window*kernel,axis=1).reshape((output_height,output_width))\n",
    "    return output\n",
    "convolve(padding(img,1,\"zeroPadding\"),kernel)"
   ]
  },
  {
   "cell_type": "code",
   "execution_count": 136,
   "metadata": {},
   "outputs": [
    {
     "data": {
      "text/plain": [
       "array([[ 17.,  24.,  24.,  24.,  24.,  15.],\n",
       "       [ 45.,  63.,  63.,  63.,  63.,  39.],\n",
       "       [ 78., 108., 108., 108., 108.,  66.],\n",
       "       [111., 153., 153., 153., 153.,  93.],\n",
       "       [144., 198., 198., 198., 198., 120.],\n",
       "       [ 75.,  99.,  99.,  99.,  99.,  57.]])"
      ]
     },
     "execution_count": 136,
     "metadata": {},
     "output_type": "execute_result"
    }
   ],
   "source": [
    "a=np.array([[[1,2,3],[4,5,6],[7,8,9]],\n",
    "            [[0,2,3],[4,5,6],[7,8,9]]])\n",
    "b=np.array([[1,2,3],[4,5,6],[7,8,9]])\n",
    "convolve_e(padding(img,1,\"zeroPadding\"),kernel)\n"
   ]
  },
  {
   "cell_type": "code",
   "execution_count": 118,
   "metadata": {},
   "outputs": [
    {
     "data": {
      "text/plain": [
       "array([[1, 2, 3],\n",
       "       [1, 2, 3],\n",
       "       [1, 2, 3],\n",
       "       [1, 2, 3],\n",
       "       [1, 2, 3],\n",
       "       [1, 2, 3],\n",
       "       [1, 2, 3],\n",
       "       [1, 2, 3],\n",
       "       [1, 2, 3]])"
      ]
     },
     "execution_count": 118,
     "metadata": {},
     "output_type": "execute_result"
    }
   ],
   "source": [
    "np.repeat([[1,2,3]],9,axis=0)"
   ]
  },
  {
   "cell_type": "code",
   "execution_count": 148,
   "metadata": {},
   "outputs": [
    {
     "data": {
      "text/plain": [
       "array([1, 2, 3, 3, 4, 5])"
      ]
     },
     "execution_count": 148,
     "metadata": {},
     "output_type": "execute_result"
    }
   ],
   "source": [
    "np.append(np.array([1,2,3]),np.array([3,4,5]))"
   ]
  },
  {
   "cell_type": "code",
   "execution_count": 149,
   "metadata": {},
   "outputs": [
    {
     "data": {
      "text/plain": [
       "(1, 2, 3, 4)"
      ]
     },
     "execution_count": 149,
     "metadata": {},
     "output_type": "execute_result"
    }
   ],
   "source": [
    "(1,2)+(3,4)"
   ]
  }
 ],
 "metadata": {
  "kernelspec": {
   "display_name": "base",
   "language": "python",
   "name": "python3"
  },
  "language_info": {
   "codemirror_mode": {
    "name": "ipython",
    "version": 3
   },
   "file_extension": ".py",
   "mimetype": "text/x-python",
   "name": "python",
   "nbconvert_exporter": "python",
   "pygments_lexer": "ipython3",
   "version": "3.10.12"
  }
 },
 "nbformat": 4,
 "nbformat_minor": 2
}
